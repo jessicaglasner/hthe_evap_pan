{
 "cells": [
  {
   "cell_type": "markdown",
   "metadata": {},
   "source": [
    "# HTHE drain evaporation pan calcs\n",
    "\n",
    "This script serves as a basic tool to run some heat and mass transfer calculations. The end goal is an energy balance between n surfaces to size power requirements for a heating pad for a heated evaporation pan. Conductive (volumetric), convective (surface), and latent (surface) heat transfer are considered; radiative heat transfer is neglected as all materials are at terrestrial temperatures. \n",
    "Measured drain rate ~120mL/hr\n",
    "\n",
    "## Methodology\n",
    "\n",
    "### Conductive heat transfer\n",
    "\n",
    "$\\dot q''' = -k\\nabla^{2}T$\n",
    "\n",
    "simplify/linearize and treat as resisitance circuit:\n",
    "\n",
    "$\\dot q''' = \\frac{1}{R_1}(T_2 - T_1)\\ + \\frac{1}{R_2}(T_3 - T_2)\\ + ...$\n",
    "\n",
    "where $R = \\frac{L}{kA}$\n",
    "\n",
    "### Convective heat transfer\n",
    "\n",
    "$\\dot q'' = h_c\\Delta T$\n",
    "\n",
    "\n",
    "### Latent (mass) heat transfer\n",
    "\n",
    "$\\dot m'' = g_{m_1}(m_{1,s} - m_{1.e})$\n",
    "\n",
    "where:\n",
    "\n",
    "$g_{m_1} = \\frac{\\mu_{air}\\text{Sh}_{L}}{L \\text{Sc}}$\n",
    "\n",
    "\n",
    "$m_{1,s} = \\frac{M_1}{M_{air}}\\frac{P_{sat}(T_s)}{P_{tot}}$\n",
    "\n",
    "\n",
    "$m_{1,e} = \\text{RH}_\\text{e}\\frac{P_{sat}(T_e)}{P_{tot}}$\n",
    "\n",
    "### Rough design\n",
    "\n",
    "Galvanized pan with silicone insulation lining bottom to negate heat transfer to the floor, heating pad sealed between galvanized pan and Al pan, water collected in Al pan. \n",
    "\n",
    "### Designations\n",
    "\n",
    "1 = insulation\n",
    "\n",
    "2 = galvanized pan\n",
    "\n",
    "3 = heating pad\n",
    "\n",
    "4 = aluminum pan\n",
    "\n",
    "5 = water\n",
    "\n",
    "air (at water interface)"
   ]
  },
  {
   "cell_type": "markdown",
   "metadata": {},
   "source": [
    "# Import packages "
   ]
  },
  {
   "cell_type": "code",
   "execution_count": 1,
   "metadata": {
    "collapsed": true
   },
   "outputs": [],
   "source": [
    "import numpy as np\n",
    "import matplotlib as plt\n",
    "import pandas as pd"
   ]
  },
  {
   "cell_type": "markdown",
   "metadata": {},
   "source": [
    "# Heat transfer properties (stored as global variables)"
   ]
  },
  {
   "cell_type": "code",
   "execution_count": 2,
   "metadata": {
    "collapsed": true
   },
   "outputs": [],
   "source": [
    "# insulating foam (1)\n",
    "k1 = 0.03; # [W/m K]\n",
    "c_p1 = 1.4; # [J/kg K]\n",
    "\n",
    "# galvanized SS pan (2)\n",
    "k2 = 14;\n",
    "c_p2 = 490;\n",
    "\n",
    "# heating pad (3)\n",
    "k3 = 0.4;\n",
    "\n",
    "# aluminum pan (4)\n",
    "k4 = 167;\n",
    "c_p4 = 896;\n",
    "\n",
    "# H2O\n",
    "M5 = 18.02; # [g/mol]\n",
    "rho5 = 1000; \n",
    "k5 = 0.6065; \n",
    "c_p5 = 4.184; \n",
    "h_fg = 2257; # [kJ/kg]"
   ]
  },
  {
   "cell_type": "code",
   "execution_count": null,
   "metadata": {
    "collapsed": true
   },
   "outputs": [],
   "source": [
    "# "
   ]
  }
 ],
 "metadata": {
  "kernelspec": {
   "display_name": "Python 3",
   "language": "python",
   "name": "python3"
  },
  "language_info": {
   "codemirror_mode": {
    "name": "ipython",
    "version": 3
   },
   "file_extension": ".py",
   "mimetype": "text/x-python",
   "name": "python",
   "nbconvert_exporter": "python",
   "pygments_lexer": "ipython3",
   "version": "3.6.0"
  }
 },
 "nbformat": 4,
 "nbformat_minor": 2
}
